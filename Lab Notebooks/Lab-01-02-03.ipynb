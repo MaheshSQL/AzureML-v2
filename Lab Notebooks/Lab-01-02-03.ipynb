{
 "cells": [
  {
   "cell_type": "markdown",
   "id": "d836cf41-a3da-43c4-a019-27cf093401c6",
   "metadata": {},
   "source": [
    "# Lab01"
   ]
  },
  {
   "cell_type": "markdown",
   "id": "b14b0d28-4dce-44aa-9caa-7053c8d89e4d",
   "metadata": {},
   "source": [
    "### Exercise 1 - Create Compute Instance"
   ]
  },
  {
   "cell_type": "markdown",
   "id": "e245e6fb-df4d-4375-9523-7268cffe6d21",
   "metadata": {},
   "source": [
    "1. Go to https://ml.azure.com/\n",
    "\n",
    "2. On the left side, select <b>Compute</b>.\n",
    "\n",
    "\n",
    "<img src = https://learn.microsoft.com/en-us/azure/machine-learning/media/quickstart-create-resources/compute-section.png width = \"700\" height = \"700\">\n",
    "\n",
    "3. Ensure that <b>Compute instances</b> tab is selected.\n",
    "\n",
    "4. Select <b>+New</b> to create a new compute instance.\n",
    "\n",
    "5. Supply a name, Keep all the defaults on the first page.\n",
    "    \n",
    "    - <b>Compute name</b>: Unique Name e.g. ComputeInstance-[ShortUserName]\n",
    "    \n",
    "    - <b>Virtual machine type</b>: CPU\n",
    "    \n",
    "    - <b>Virtual machine size</b>: Any 4 core machine e.g. Standard_D3_... or Standard_D4_...<br><br>\n",
    "    \n",
    "    \n",
    "6. Click <b>Next: Advanced Settings</b> button.\n",
    "\n",
    "    - Configure <b>Stop compute instance schedule</b>.<br><br>\n",
    "\n",
    "7. Select <b>Create</b>."
   ]
  },
  {
   "cell_type": "markdown",
   "id": "2d5867f5-782f-4044-a07c-57866c4a71de",
   "metadata": {},
   "source": [
    "### Exercise 2 - Create Compute Cluster"
   ]
  },
  {
   "cell_type": "markdown",
   "id": "dfad6b40-0c59-4b31-8180-b68c56ed8931",
   "metadata": {},
   "source": [
    "Create a compute cluster that will autoscale between zero and 2 nodes:\n",
    "\n",
    "1. Still in the <b>Compute section</b>, in the top tab, select <b>Compute clusters</b>.\n",
    "\n",
    "2. Select <b>+New</b> to create a new compute cluster.\n",
    "\n",
    "4. Configure cluster\n",
    "\n",
    "    - <b>Location</b>: Australia East\n",
    "    \n",
    "    - <b>Virtual machine tier</b>: Dedicated\n",
    "    \n",
    "    - <b>Virtual machine type</b>: CPU\n",
    "    \n",
    "    - <b>Virtual machine size</b>: Any 2 core machine e.g. Standard_D2_...<br><br>\n",
    "    \n",
    "    \n",
    "    \n",
    "    \n",
    "5. select <b>Next</b>.\n",
    "\n",
    "6. Provide cluster name e.g. Compute-Cluster-[ShortUserName]\n",
    "\n",
    "7. Leave the <b>Minimum number of nodes</b> at 0.\n",
    "\n",
    "8. Change the <b>Maximum number of nodes</b> to 2 if possible. Depending on your settings, you may have a smaller limit.\n",
    "\n",
    "9. Change the <b>Idle seconds before scale down</b> to 3600.\n",
    "\n",
    "9. Leave the rest of the defaults, and select <b>Create</b>."
   ]
  },
  {
   "cell_type": "markdown",
   "id": "7efa329c-a55d-4b34-a335-d83b81ffd024",
   "metadata": {},
   "source": [
    "> In less than a minute, the State of the cluster will change from Creating to Succeeded. The list shows the provisioned compute cluster, along with the number of idle nodes, busy nodes, and unprovisioned nodes. Since you haven't used the cluster yet, all the nodes are currently unprovisioned."
   ]
  },
  {
   "cell_type": "markdown",
   "id": "be6b7044-3558-4270-8cad-33e74426e7be",
   "metadata": {},
   "source": [
    "### Exercise 3 - Quick tour of the studio"
   ]
  },
  {
   "cell_type": "markdown",
   "id": "2c429f69-c94d-4ed4-864d-ec7157043fde",
   "metadata": {},
   "source": [
    "The studio is your web portal for Azure Machine Learning. This portal combines no-code and code-first experiences for an inclusive data science platform.\n",
    "\n",
    "Review the parts of the studio on the left-hand navigation bar:\n",
    "\n",
    "- The <b>Author</b> section of the studio contains multiple ways to get started in creating machine learning models. You can:\n",
    "\n",
    "    - <b>Notebooks</b> section allows you to create Jupyter Notebooks, copy sample notebooks, and run notebooks and Python scripts.\n",
    "    - <b>Automated ML</b> steps you through creating a machine learning model without writing code.\n",
    "    - <b>Designer</b> gives you a drag-and-drop way to build models using prebuilt components. <br><br>\n",
    "\n",
    "- The Assets section of the studio helps you keep track of the assets you create as you run your jobs. If you have a new workspace, there's nothing in any of these sections yet.<br>\n",
    "\n",
    "- You already used the Manage section of the studio to create your compute resources. This section also lets you create and manage data and external services you link to your workspace."
   ]
  },
  {
   "cell_type": "markdown",
   "id": "cf6f04e1-53ff-4656-b08c-9e5c50c9fe7c",
   "metadata": {},
   "source": [
    "---"
   ]
  },
  {
   "cell_type": "markdown",
   "id": "d1db2acc-3016-45ea-8beb-72776c21eb22",
   "metadata": {},
   "source": [
    "# Lab02"
   ]
  },
  {
   "cell_type": "markdown",
   "id": "6b426703-80e1-4b0a-9fb3-294ea7e48787",
   "metadata": {},
   "source": [
    "## Automated ML\n",
    "Forecast demand with no-code automated machine learning in the Azure Machine Learning studio."
   ]
  },
  {
   "cell_type": "markdown",
   "id": "b6fe9131-43b1-4517-9f90-59231f95066b",
   "metadata": {},
   "source": [
    "### Exercise 4 - Time Series\n",
    "https://learn.microsoft.com/en-us/azure/machine-learning/tutorial-automated-ml-forecast"
   ]
  },
  {
   "cell_type": "markdown",
   "id": "fd4b6303-e5b9-4a8b-b7a0-a9accb53c5cc",
   "metadata": {},
   "source": [
    "---"
   ]
  },
  {
   "cell_type": "markdown",
   "id": "7ac6dd30-5385-4110-8b97-e870bfa3557c",
   "metadata": {},
   "source": [
    "# Lab03"
   ]
  },
  {
   "cell_type": "markdown",
   "id": "2fd96329-a024-41c5-9635-2002eb153fff",
   "metadata": {},
   "source": [
    "## Pipelines \n",
    "Using the Azure Machine Learning designer to create pipeline."
   ]
  },
  {
   "cell_type": "markdown",
   "id": "f0920f4d-a7f7-47c3-8758-d7381febacf0",
   "metadata": {},
   "source": [
    "### Exercise 5 - Regression\n",
    "https://learn.microsoft.com/en-us/azure/machine-learning/tutorial-designer-automobile-price-train-score"
   ]
  },
  {
   "cell_type": "markdown",
   "id": "0297f658-2d06-47de-8982-69224560e297",
   "metadata": {},
   "source": [
    "---"
   ]
  }
 ],
 "metadata": {
  "kernelspec": {
   "display_name": "Python 3.10 - SDK v2",
   "language": "python",
   "name": "python310-sdkv2"
  },
  "language_info": {
   "codemirror_mode": {
    "name": "ipython",
    "version": 3
   },
   "file_extension": ".py",
   "mimetype": "text/x-python",
   "name": "python",
   "nbconvert_exporter": "python",
   "pygments_lexer": "ipython3",
   "version": "3.10.9"
  }
 },
 "nbformat": 4,
 "nbformat_minor": 5
}
